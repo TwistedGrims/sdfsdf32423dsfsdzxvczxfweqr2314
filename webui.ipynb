{
  "nbformat": 4,
  "nbformat_minor": 0,
  "metadata": {
    "colab": {
      "provenance": [],
      "gpuType": "T4",
      "include_colab_link": true
    },
    "kernelspec": {
      "name": "python3",
      "display_name": "Python 3"
    },
    "language_info": {
      "name": "python"
    },
    "accelerator": "GPU"
  },
  "cells": [
    {
      "cell_type": "markdown",
      "metadata": {
        "id": "view-in-github",
        "colab_type": "text"
      },
      "source": [
        "<a href=\"https://colab.research.google.com/github/TwistedGrims/sdfsdf32423dsfsdzxvczxfweqr2314/blob/main/webui.ipynb\" target=\"_parent\"><img src=\"https://colab.research.google.com/assets/colab-badge.svg\" alt=\"Open In Colab\"/></a>"
      ]
    },
    {
      "cell_type": "code",
      "source": [
        "\n",
        "!curl -sS https://bootstrap.pypa.io/get-pip.py | python3.10\n",
        "!python3.10 -m pip install --upgrade pip\n",
        "!python3.10 -m pip install matplotlib==3.7.5 gradio==3.44.0 timm==0.9.2 pydantic==1.10.12\n",
        "!mkdir -p ~/.matplotlib\n",
        "!echo \"backend: Agg\" > ~/.matplotlib/matplotlibrc\n",
        "import os\n",
        "os.environ[\"MPLBACKEND\"] = \"Agg\"\n",
        "!git clone https://github.com/AUTOMATIC1111/stable-diffusion-webui /content/stable-diffusion-webui\n",
        "%cd /content/stable-diffusion-webui\n",
        "!python3.10 -m pip install \"pytorch-lightning==1.9.5\"\n",
        "from google.colab import drive\n",
        "drive.mount('/content/drive')\n",
        "waiNSFWIllustrious_v150 = \"/content/drive/MyDrive/waiNSFWIllustrious_v150.safetensors\"\n",
        "realistic= \"/content/drive/MyDrive/models/realismIllustriousBy_v50FP16.safetensors\"\n",
        "!mkdir -p /content/stable-diffusion-webui/models/Stable-diffusion\n",
        "!ln -s \"{waiNSFWIllustrious_v150}\" /content/stable-diffusion-webui/models/Stable-diffusion/waiNSFWIllustrious_v150.safetensors\n",
        "!ln -s \"{realistic}\" /content/stable-diffusion-webui/models/Stable-diffusion/realismIllustriousBy_v50FP16.safetensors\n"
      ],
      "metadata": {
        "id": "HSPdACK_yOV7"
      },
      "execution_count": null,
      "outputs": []
    },
    {
      "cell_type": "code",
      "source": [
        "!mkdir -p /content/stable-diffusion-webui/models/Lora\n",
        "!ln -s \"/content/drive/MyDrive/extensions/lazyneg.safetensors\" /content/stable-diffusion-webui/embeddings/lazyneg.safetensors\n",
        "!ln -s \"/content/drive/MyDrive/extensions/lazypov.safetensors\" /content/stable-diffusion-webui/embeddings/lazypov.safetensors\n",
        "!ln -s \"/content/drive/MyDrive/extensions/TendCraft.safetensors\" /content/stable-diffusion-webui/embeddings/TendCraft.safetensors\n",
        "!ln -s \"/content/drive/MyDrive/extensions/ma1ma1helmes.safetensors\" /content/stable-diffusion-webui/embeddings/ma1ma1helmes.safetensors\n",
        "!ln -s \"/content/drive/MyDrive/extensions/ppw_v8_Illuv2stable_128.safetensors\" /content/stable-diffusion-webui/embeddings/ppw_v8_Illuv2stable_128.safetensors\n",
        "\n",
        "\n",
        "\n"
      ],
      "metadata": {
        "id": "Po4K6e7H93er"
      },
      "execution_count": null,
      "outputs": []
    },
    {
      "cell_type": "code",
      "source": [
        "!COMMANDLINE_ARGS=\"--share --disable-safe-unpickle \\\n",
        "--ckpt /content/stable-diffusion-webui/models/Stable-diffusion/custom_model.safetensors \\\n",
        "--sampler 'Euler a' \\\n",
        "--cfg 3 \" python3.10 launch.py"
      ],
      "metadata": {
        "id": "do3uVhlz0VK-"
      },
      "execution_count": null,
      "outputs": []
    }
  ]
}