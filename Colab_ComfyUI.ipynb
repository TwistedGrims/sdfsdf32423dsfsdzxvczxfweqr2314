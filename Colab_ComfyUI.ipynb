{
  "nbformat": 4,
  "nbformat_minor": 0,
  "metadata": {
    "colab": {
      "provenance": [],
      "gpuType": "T4",
      "include_colab_link": true
    },
    "kernelspec": {
      "name": "python3",
      "display_name": "Python 3"
    },
    "language_info": {
      "name": "python"
    },
    "accelerator": "GPU"
  },
  "cells": [
    {
      "cell_type": "markdown",
      "metadata": {
        "id": "view-in-github",
        "colab_type": "text"
      },
      "source": [
        "<a href=\"https://colab.research.google.com/github/TwistedGrims/sdfsdf32423dsfsdzxvczxfweqr2314/blob/main/Colab_ComfyUI.ipynb\" target=\"_parent\"><img src=\"https://colab.research.google.com/assets/colab-badge.svg\" alt=\"Open In Colab\"/></a>"
      ]
    },
    {
      "cell_type": "code",
      "execution_count": null,
      "metadata": {
        "collapsed": true,
        "id": "HGuEJk-Fb0m_"
      },
      "outputs": [],
      "source": [
        "# System & Python dependencies\n",
        "!apt -y update -qq\n",
        "!apt -y install -qq libgl1-mesa-glx wget git\n",
        "\n",
        "# Clone ComfyUI\n",
        "!git clone https://github.com/comfyanonymous/ComfyUI.git\n",
        "%cd ComfyUI\n",
        "\n",
        "# Install Python packages\n",
        "!pip install -r requirements.txt\n",
        "\n",
        "import torch\n",
        "print(\"✅ CUDA available:\", torch.cuda.is_available())\n",
        "print(\"💡 GPU device:\", torch.cuda.get_device_name(0) if torch.cuda.is_available() else \"None\")\n"
      ]
    },
    {
      "cell_type": "code",
      "source": [
        "# 📂 Mount Google Drive\n",
        "from google.colab import drive\n",
        "import os\n",
        "\n",
        "drive.mount('/content/drive')\n",
        "\n",
        "# Define your base folder inside Google Drive\n",
        "GDRIVE_BASE = '/content/drive/MyDrive/ComfyUI'\n",
        "\n",
        "# 📁 Define required subfolders\n",
        "REQUIRED_FOLDERS = [\n",
        "    'models/checkpoints',\n",
        "    'models/controlnet',\n",
        "    'models/vae',\n",
        "    'models/upscale_models',\n",
        "    'models/clip',\n",
        "    'models/unet',\n",
        "    'custom_nodes',\n",
        "    'input',\n",
        "    'output',\n",
        "    'temp',\n",
        "    'user'\n",
        "]\n",
        "\n",
        "# ✅ Create folders if not exist\n",
        "for folder in REQUIRED_FOLDERS:\n",
        "    full_path = os.path.join(GDRIVE_BASE, folder)\n",
        "    os.makedirs(full_path, exist_ok=True)\n",
        "\n",
        "print(\"✅ All required folders are verified or created in Google Drive.\")"
      ],
      "metadata": {
        "id": "5mRXKW-PWOJE"
      },
      "execution_count": null,
      "outputs": []
    },
    {
      "cell_type": "code",
      "source": [
        "COMFYUI_PATH = '/content/ComfyUI'\n",
        "\n",
        "LINKS = {\n",
        "    'models': f'{GDRIVE_BASE}/models',\n",
        "    'custom_nodes': f'{GDRIVE_BASE}/custom_nodes',\n",
        "    'input': f'{GDRIVE_BASE}/input',\n",
        "    'output': f'{GDRIVE_BASE}/output',\n",
        "    'temp': f'{GDRIVE_BASE}/temp',\n",
        "    'user': f'{GDRIVE_BASE}/user'\n",
        "}\n",
        "\n",
        "for name, target in LINKS.items():\n",
        "    source = os.path.join(COMFYUI_PATH, name)\n",
        "    # Remove old local folder\n",
        "    if os.path.islink(source) or os.path.isdir(source):\n",
        "        !rm -rf \"{source}\"\n",
        "    # Create symlink\n",
        "    os.symlink(target, source)\n",
        "\n",
        "print(\"✅ ComfyUI is now fully configured to use Google Drive.\")"
      ],
      "metadata": {
        "id": "GGmKWz4XWXBL"
      },
      "execution_count": null,
      "outputs": []
    },
    {
      "cell_type": "code",
      "source": [
        "import os\n",
        "\n",
        "# ✅ CONFIG\n",
        "drive_model_path = \"/content/drive/MyDrive/ComfyUI/models/checkpoints\"\n",
        "model_filename = \"sd_xl_base_1.0.safetensors\"\n",
        "model_url = \"https://huggingface.co/stabilityai/stable-diffusion-xl-base-1.0/resolve/main/sd_xl_base_1.0.safetensors\"\n",
        "force_refresh = False  # 🔁 Set to True to redownload even if file exists\n",
        "\n",
        "# ✅ Construct full path\n",
        "model_path = os.path.join(drive_model_path, model_filename)\n",
        "\n",
        "# ✅ Ensure model folder exists\n",
        "os.makedirs(drive_model_path, exist_ok=True)\n",
        "\n",
        "# ✅ Logic to download or refresh\n",
        "if not os.path.exists(model_path):\n",
        "    print(\"⬇️  Model not found in Google Drive. Downloading...\")\n",
        "    !wget -O \"{model_path}\" \"{model_url}\"\n",
        "    print(\"✅ Model downloaded to Google Drive.\")\n",
        "elif force_refresh:\n",
        "    print(\"🔁 Force refresh is enabled. Re-downloading model...\")\n",
        "    !wget -O \"{model_path}\" \"{model_url}\"\n",
        "    print(\"✅ Model refreshed in Google Drive.\")\n",
        "else:\n",
        "    print(\"✅ Model already exists in Google Drive. Skipping download.\")\n"
      ],
      "metadata": {
        "collapsed": true,
        "id": "cKoM_8ihdoLA"
      },
      "execution_count": null,
      "outputs": []
    },
    {
      "cell_type": "code",
      "source": [
        "!rm -f ngrok ngrok.zip ngrok-stable-linux-amd64.tgz\n",
        "!wget -O ngrok-stable-linux-amd64.tgz https://bin.equinox.io/c/bNyj1mQVY4c/ngrok-v3-stable-linux-amd64.tgz\n",
        "!tar -xvzf ngrok-stable-linux-amd64.tgz\n",
        "!chmod +x ngrok\n",
        "!./ngrok version\n",
        "!./ngrok authtoken PUT YOUR TOKEN HERE\n"
      ],
      "metadata": {
        "collapsed": true,
        "id": "IKL3eUWCmUYZ"
      },
      "execution_count": null,
      "outputs": []
    },
    {
      "cell_type": "code",
      "source": [
        "# ComfyUI Manager\n",
        "!pip install \"numpy==1.26.4\" --force-reinstall --quiet > /dev/null 2>&1\n",
        "!rm -rf /content/ComfyUI/custom_nodes/ComfyUI-Manager\n",
        "!git clone --quiet https://github.com/ltdrdata/ComfyUI-Manager.git /content/ComfyUI/custom_nodes/ComfyUI-Manager\n",
        "print(\"✅ ComfyUI-Manager installed and numpy version is set for compatibility.\")\n"
      ],
      "metadata": {
        "id": "xXDc_XtdoV62"
      },
      "execution_count": null,
      "outputs": []
    },
    {
      "cell_type": "code",
      "source": [
        "import subprocess\n",
        "import time\n",
        "import requests\n",
        "\n",
        "# Start ngrok tunnel to port 8188\n",
        "ngrok_process = subprocess.Popen(['./ngrok', 'http', '8188'],\n",
        "                                 stdout=subprocess.DEVNULL,\n",
        "                                 stderr=subprocess.STDOUT)\n",
        "\n",
        "# Wait and retry connection\n",
        "for i in range(10):\n",
        "    try:\n",
        "        r = requests.get('http://localhost:4040/api/tunnels')\n",
        "        public_url = r.json()['tunnels'][0]['public_url']\n",
        "        print(f\"✅ Ngrok tunnel established: {public_url}\")\n",
        "        break\n",
        "    except Exception as e:\n",
        "        print(f\"⏳ Attempt {i+1}/10: Ngrok not ready yet...\")\n",
        "        time.sleep(2)\n",
        "else:\n",
        "    print(\"❌ Ngrok failed to start. Please restart the runtime and try again.\")\n",
        "\n"
      ],
      "metadata": {
        "id": "L1hdP6OmeWYd"
      },
      "execution_count": null,
      "outputs": []
    },
    {
      "cell_type": "code",
      "source": [
        "# Start ComfyUI with public access\n",
        "%cd /content/ComfyUI\n",
        "!python main.py --listen 0.0.0.0 --port 8188   --cuda-device 0\n"
      ],
      "metadata": {
        "id": "SVR76AtUeENc",
        "collapsed": true
      },
      "execution_count": null,
      "outputs": []
    }
  ]
}