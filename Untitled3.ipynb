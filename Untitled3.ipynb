{
  "nbformat": 4,
  "nbformat_minor": 0,
  "metadata": {
    "colab": {
      "provenance": [],
      "gpuType": "T4",
      "authorship_tag": "ABX9TyNvJF2IFeftN07n57kqqz9H",
      "include_colab_link": true
    },
    "kernelspec": {
      "name": "python3",
      "display_name": "Python 3"
    },
    "language_info": {
      "name": "python"
    },
    "accelerator": "GPU"
  },
  "cells": [
    {
      "cell_type": "markdown",
      "metadata": {
        "id": "view-in-github",
        "colab_type": "text"
      },
      "source": [
        "<a href=\"https://colab.research.google.com/github/TwistedGrims/sdfsdf32423dsfsdzxvczxfweqr2314/blob/main/Untitled3.ipynb\" target=\"_parent\"><img src=\"https://colab.research.google.com/assets/colab-badge.svg\" alt=\"Open In Colab\"/></a>"
      ]
    },
    {
      "cell_type": "code",
      "execution_count": 2,
      "metadata": {
        "colab": {
          "base_uri": "https://localhost:8080/"
        },
        "id": "xiPz2I4S5cpX",
        "outputId": "b5dafd60-dc3c-4a6a-e43e-6b46bde7f767"
      },
      "outputs": [
        {
          "output_type": "stream",
          "name": "stdout",
          "text": [
            "fatal: destination path '/content/ComfyUI' already exists and is not an empty directory.\n",
            "/content/ComfyUI\n",
            "--2025-09-18 22:24:00--  https://huggingface.co/TencentARC/Wan2.2/resolve/main/wan2.2-diffusion-fp8.gguf\n",
            "Resolving huggingface.co (huggingface.co)... 3.170.185.14, 3.170.185.25, 3.170.185.35, ...\n",
            "Connecting to huggingface.co (huggingface.co)|3.170.185.14|:443... connected.\n",
            "HTTP request sent, awaiting response... 401 Unauthorized\n",
            "\n",
            "Username/Password Authentication Failed.\n",
            "--2025-09-18 22:24:00--  https://huggingface.co/TencentARC/Wan2.2/resolve/main/umt5-xxl-fp8.safetensors\n",
            "Resolving huggingface.co (huggingface.co)... 3.170.185.14, 3.170.185.25, 3.170.185.35, ...\n",
            "Connecting to huggingface.co (huggingface.co)|3.170.185.14|:443... connected.\n",
            "HTTP request sent, awaiting response... 401 Unauthorized\n",
            "\n",
            "Username/Password Authentication Failed.\n",
            "--2025-09-18 22:24:00--  https://huggingface.co/TencentARC/Wan2.2/resolve/main/wan2.1-vae.safetensors\n",
            "Resolving huggingface.co (huggingface.co)... 3.170.185.14, 3.170.185.25, 3.170.185.35, ...\n",
            "Connecting to huggingface.co (huggingface.co)|3.170.185.14|:443... connected.\n",
            "HTTP request sent, awaiting response... 401 Unauthorized\n",
            "\n",
            "Username/Password Authentication Failed.\n",
            "--2025-09-18 22:24:00--  https://huggingface.co/TencentARC/Wan2.2/resolve/main/workflows/wan2.2_t2v_workflow.json\n",
            "Resolving huggingface.co (huggingface.co)... 3.170.185.14, 3.170.185.25, 3.170.185.35, ...\n",
            "Connecting to huggingface.co (huggingface.co)|3.170.185.14|:443... connected.\n",
            "HTTP request sent, awaiting response... 401 Unauthorized\n",
            "\n",
            "Username/Password Authentication Failed.\n",
            "Checkpoint files will always be loaded safely.\n",
            "Traceback (most recent call last):\n",
            "  File \"/content/ComfyUI/main.py\", line 147, in <module>\n",
            "    import execution\n",
            "  File \"/content/ComfyUI/execution.py\", line 15, in <module>\n",
            "    import comfy.model_management\n",
            "  File \"/content/ComfyUI/comfy/model_management.py\", line 237, in <module>\n",
            "    total_vram = get_total_memory(get_torch_device()) / (1024 * 1024)\n",
            "                                  ^^^^^^^^^^^^^^^^^^\n",
            "  File \"/content/ComfyUI/comfy/model_management.py\", line 187, in get_torch_device\n",
            "    return torch.device(torch.cuda.current_device())\n",
            "                        ^^^^^^^^^^^^^^^^^^^^^^^^^^^\n",
            "  File \"/usr/local/lib/python3.12/dist-packages/torch/cuda/__init__.py\", line 1071, in current_device\n",
            "    _lazy_init()\n",
            "  File \"/usr/local/lib/python3.12/dist-packages/torch/cuda/__init__.py\", line 412, in _lazy_init\n",
            "    torch._C._cuda_init()\n",
            "RuntimeError: Found no NVIDIA driver on your system. Please check that you have an NVIDIA GPU and installed a driver from http://www.nvidia.com/Download/index.aspx\n"
          ]
        }
      ],
      "source": [
        "# =========================\n",
        "# Install ComfyUI\n",
        "# =========================\n",
        "!git clone https://github.com/comfyanonymous/ComfyUI.git /content/ComfyUI\n",
        "%cd /content/ComfyUI\n",
        "!pip install -q -r requirements.txt\n",
        "\n",
        "# =========================\n",
        "# Create model directories\n",
        "# =========================\n",
        "!mkdir -p /content/ComfyUI/models/diffusion_models\n",
        "!mkdir -p /content/ComfyUI/models/text_encoders\n",
        "!mkdir -p /content/ComfyUI/models/vae\n",
        "\n",
        "# =========================\n",
        "# Download Wan 2.2 models\n",
        "# (hosted on HuggingFace)\n",
        "# =========================\n",
        "# Diffusion backbone\n",
        "!wget -O /content/ComfyUI/models/diffusion_models/wan2.2-diffusion-fp8.gguf \\\n",
        "  https://huggingface.co/TencentARC/Wan2.2/resolve/main/wan2.2-diffusion-fp8.gguf\n",
        "\n",
        "# Text encoder (UMT5-XXL FP8)\n",
        "!wget -O /content/ComfyUI/models/text_encoders/umt5-xxl-fp8.safetensors \\\n",
        "  https://huggingface.co/TencentARC/Wan2.2/resolve/main/umt5-xxl-fp8.safetensors\n",
        "\n",
        "# VAE\n",
        "!wget -O /content/ComfyUI/models/vae/wan2.1-vae.safetensors \\\n",
        "  https://huggingface.co/TencentARC/Wan2.2/resolve/main/wan2.1-vae.safetensors\n",
        "\n",
        "# =========================\n",
        "# (Optional) Example workflow JSON\n",
        "# =========================\n",
        "!mkdir -p /content/ComfyUI/workflows\n",
        "!wget -O /content/ComfyUI/workflows/wan2.2_t2v_workflow.json \\\n",
        "  https://huggingface.co/TencentARC/Wan2.2/resolve/main/workflows/wan2.2_t2v_workflow.json\n",
        "\n",
        "# =========================\n",
        "# Launch ComfyUI with share link\n",
        "# =========================\n",
        "!COMMANDLINE_ARGS=\"--share\" python main.py\n"
      ]
    }
  ]
}