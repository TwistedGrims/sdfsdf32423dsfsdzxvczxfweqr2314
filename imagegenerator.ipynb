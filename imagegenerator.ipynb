{
  "nbformat": 4,
  "nbformat_minor": 0,
  "metadata": {
    "colab": {
      "provenance": [],
      "toc_visible": true,
      "gpuType": "T4",
      "include_colab_link": true
    },
    "kernelspec": {
      "name": "python3",
      "display_name": "Python 3"
    },
    "language_info": {
      "name": "python"
    },
    "accelerator": "GPU"
  },
  "cells": [
    {
      "cell_type": "markdown",
      "metadata": {
        "id": "view-in-github",
        "colab_type": "text"
      },
      "source": [
        "<a href=\"https://colab.research.google.com/github/TwistedGrims/sdfsdf32423dsfsdzxvczxfweqr2314/blob/main/imagegenerator.ipynb\" target=\"_parent\"><img src=\"https://colab.research.google.com/assets/colab-badge.svg\" alt=\"Open In Colab\"/></a>"
      ]
    },
    {
      "cell_type": "code",
      "source": [
        "#@title Import Google drive\n",
        "from google.colab import drive\n",
        "drive.mount('/content/drive')\n",
        "!pip install -U xformers\n",
        "\n"
      ],
      "metadata": {
        "id": "r8BU9WBxmLyM"
      },
      "execution_count": null,
      "outputs": []
    },
    {
      "cell_type": "markdown",
      "source": [],
      "metadata": {
        "id": "_LBIkkERO-5C"
      }
    },
    {
      "cell_type": "code",
      "source": [
        "#@title Load Model\n",
        "import torch\n",
        "import random\n",
        "from diffusers import StableDiffusionXLPipeline\n",
        "from PIL import Image\n",
        "\n",
        "device = \"cuda\" if torch.cuda.is_available() else \"cpu\"\n",
        "torch_dtype = torch.float16 if device == \"cuda\" else torch.float32\n",
        "\n",
        "safetensor_path = \"/content/drive/MyDrive/waiNSFWIllustrious_v150.safetensors\"\n",
        "\n",
        "pipe = StableDiffusionXLPipeline.from_single_file(\n",
        "    safetensor_path,\n",
        "    torch_dtype=torch_dtype\n",
        ").to(device)\n",
        "def image_grid(imgs, rows, cols):\n",
        "    assert len(imgs) == rows * cols\n",
        "    w, h = imgs[0].size\n",
        "    grid = Image.new(\"RGB\", size=(cols * w, rows * h))\n",
        "    for i, img in enumerate(imgs):\n",
        "        grid.paste(img, box=(i % cols * w, i // cols * h))\n",
        "    return grid\n",
        "\n",
        "pipe.enable_xformers_memory_efficient_attention()\n",
        "pipe.enable_vae_slicing()\n",
        "pipe.enable_sequential_cpu_offload()\n",
        "\n"
      ],
      "metadata": {
        "id": "TQffshqinWLb"
      },
      "execution_count": null,
      "outputs": []
    },
    {
      "cell_type": "code",
      "source": [
        "# =========================\n",
        "# Generation Settings\n",
        "# =========================\n",
        "prompt = \"lazypos, Hatsune Miku, neon, glowing, futuristic city\"  #@param {type:\"string\"}\n",
        "negative_prompt = \"lazyneg, blurry, bad anatomy, low quality\"  #@param {type:\"string\"}\n",
        "\n",
        "aspect_ratios = {\n",
        "    \"1024x1024\": (1024, 1024),\n",
        "    \"1216x832\": (1216, 832),\n",
        "    \"832x1216\": (832, 1216)\n",
        "}\n",
        "chosen_ratio = \"1216x832\"  #@param [\"1024x1024\", \"1216x832\", \"832x1216\"]\n",
        "width, height = aspect_ratios[chosen_ratio]\n",
        "\n",
        "num_rows = 1  #@param {type:\"integer\"}\n",
        "num_cols = 1  #@param {type:\"integer\"}\n",
        "cfg_scale = 7  #@param {type:\"number\"}\n",
        "steps = 30  #@param {type:\"integer\"}\n",
        "seed = 0  #@param {type:\"integer\"}\n",
        "\n",
        "# =========================\n",
        "# Generate Images\n",
        "# =========================\n",
        "all_images = []\n",
        "for _ in range(num_rows):\n",
        "    row_images = []\n",
        "    for _ in range(num_cols):\n",
        "        if seed and seed > 0:\n",
        "            current_seed = seed\n",
        "        else:\n",
        "            current_seed = random.randint(0, 2**32 - 1)\n",
        "\n",
        "        generator = torch.Generator(device=device).manual_seed(current_seed)\n",
        "\n",
        "        result = pipe(\n",
        "            prompt=[prompt],\n",
        "            negative_prompt=[negative_prompt],\n",
        "            width=width,\n",
        "            height=height,\n",
        "            num_inference_steps=steps,\n",
        "            guidance_scale=cfg_scale,\n",
        "            generator=generator\n",
        "        )\n",
        "\n",
        "        img = result.images[0]\n",
        "        row_images.append(img)\n",
        "\n",
        "    all_images.extend(row_images)\n",
        "\n",
        "grid = image_grid(all_images, rows=num_rows, cols=num_cols)\n",
        "grid\n"
      ],
      "metadata": {
        "id": "FtCwqNyjnYZF"
      },
      "execution_count": null,
      "outputs": []
    },
    {
      "cell_type": "markdown",
      "source": [],
      "metadata": {
        "id": "y6yOFNRGnb6F"
      }
    }
  ]
}