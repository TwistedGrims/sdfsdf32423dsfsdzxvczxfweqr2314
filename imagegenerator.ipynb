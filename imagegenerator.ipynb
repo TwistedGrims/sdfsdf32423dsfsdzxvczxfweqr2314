{
  "nbformat": 4,
  "nbformat_minor": 0,
  "metadata": {
    "colab": {
      "provenance": [],
      "authorship_tag": "ABX9TyNCy6Xkci6WjwIaNy/NpFJ9",
      "include_colab_link": true
    },
    "kernelspec": {
      "name": "python3",
      "display_name": "Python 3"
    },
    "language_info": {
      "name": "python"
    }
  },
  "cells": [
    {
      "cell_type": "markdown",
      "metadata": {
        "id": "view-in-github",
        "colab_type": "text"
      },
      "source": [
        "<a href=\"https://colab.research.google.com/github/TwistedGrims/sdfsdf32423dsfsdzxvczxfweqr2314/blob/main/imagegenerator.ipynb\" target=\"_parent\"><img src=\"https://colab.research.google.com/assets/colab-badge.svg\" alt=\"Open In Colab\"/></a>"
      ]
    },
    {
      "cell_type": "code",
      "source": [
        "# Check GPU\n",
        "import torch\n",
        "if not torch.cuda.is_available():\n",
        "    print(\"⚠️ GPU not enabled. Go to Runtime > Change runtime type > GPU\")\n",
        "\n",
        "# Install dependencies\n",
        "!pip install --upgrade diffusers transformers accelerate ftfy scipy\n",
        "\n",
        "# Import pipeline\n",
        "from diffusers import StableDiffusionXLPipeline\n",
        "from PIL import Image\n",
        "\n",
        "# Set device\n",
        "device = \"cuda\" if torch.cuda.is_available() else \"cpu\"\n",
        "torch_dtype = torch.float16 if device == \"cuda\" else torch.float32\n",
        "\n",
        "# Load model\n",
        "model_name = \"TheReprinter/WAI-NSFW-illustrious-SDXL\"\n",
        "pipe = StableDiffusionXLPipeline.from_pretrained(model_name, torch_dtype=torch_dtype)\n",
        "pipe = pipe.to(device)\n"
      ],
      "metadata": {
        "colab": {
          "base_uri": "https://localhost:8080/"
        },
        "id": "r8BU9WBxmLyM",
        "outputId": "f61d0937-a106-4174-debd-9d419666a1f7"
      },
      "execution_count": null,
      "outputs": [
        {
          "output_type": "stream",
          "name": "stdout",
          "text": [
            "⚠️ GPU not enabled. Go to Runtime > Change runtime type > GPU\n",
            "\u001b[31mERROR: Operation cancelled by user\u001b[0m\u001b[31m\n",
            "\u001b[0m"
          ]
        }
      ]
    }
  ]
}